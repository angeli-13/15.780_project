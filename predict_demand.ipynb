{
 "cells": [
  {
   "cell_type": "code",
   "execution_count": 2,
   "metadata": {},
   "outputs": [],
   "source": [
    "# Importing the libraries\n",
    "import pandas as pd\n",
    "from sklearn.linear_model import LinearRegression\n",
    "from sklearn.model_selection import train_test_split\n",
    "from sklearn.metrics import mean_squared_error, mean_absolute_error, r2_score\n",
    "import matplotlib.pyplot as plt\n",
    "import numpy as np"
   ]
  },
  {
   "cell_type": "code",
   "execution_count": 3,
   "metadata": {},
   "outputs": [
    {
     "data": {
      "text/html": [
       "<div>\n",
       "<style scoped>\n",
       "    .dataframe tbody tr th:only-of-type {\n",
       "        vertical-align: middle;\n",
       "    }\n",
       "\n",
       "    .dataframe tbody tr th {\n",
       "        vertical-align: top;\n",
       "    }\n",
       "\n",
       "    .dataframe thead th {\n",
       "        text-align: right;\n",
       "    }\n",
       "</style>\n",
       "<table border=\"1\" class=\"dataframe\">\n",
       "  <thead>\n",
       "    <tr style=\"text-align: right;\">\n",
       "      <th></th>\n",
       "      <th>Month</th>\n",
       "      <th>Hour</th>\n",
       "      <th>Zone_CAPITL</th>\n",
       "      <th>Zone_CENTRL</th>\n",
       "      <th>Zone_DUNWOD</th>\n",
       "      <th>Zone_GENESE</th>\n",
       "      <th>Zone_HUD VL</th>\n",
       "      <th>Zone_LONGIL</th>\n",
       "      <th>Zone_MHK VL</th>\n",
       "      <th>Zone_MILLWD</th>\n",
       "      <th>Zone_N.Y.C.</th>\n",
       "      <th>Zone_NORTH</th>\n",
       "      <th>Zone_WEST</th>\n",
       "      <th>RTD Actual Load</th>\n",
       "    </tr>\n",
       "  </thead>\n",
       "  <tbody>\n",
       "    <tr>\n",
       "      <th>0</th>\n",
       "      <td>1</td>\n",
       "      <td>0</td>\n",
       "      <td>False</td>\n",
       "      <td>False</td>\n",
       "      <td>False</td>\n",
       "      <td>False</td>\n",
       "      <td>False</td>\n",
       "      <td>False</td>\n",
       "      <td>False</td>\n",
       "      <td>False</td>\n",
       "      <td>False</td>\n",
       "      <td>False</td>\n",
       "      <td>True</td>\n",
       "      <td>1576.427701</td>\n",
       "    </tr>\n",
       "    <tr>\n",
       "      <th>1</th>\n",
       "      <td>1</td>\n",
       "      <td>0</td>\n",
       "      <td>False</td>\n",
       "      <td>False</td>\n",
       "      <td>False</td>\n",
       "      <td>False</td>\n",
       "      <td>False</td>\n",
       "      <td>False</td>\n",
       "      <td>False</td>\n",
       "      <td>False</td>\n",
       "      <td>False</td>\n",
       "      <td>True</td>\n",
       "      <td>False</td>\n",
       "      <td>709.431346</td>\n",
       "    </tr>\n",
       "    <tr>\n",
       "      <th>2</th>\n",
       "      <td>1</td>\n",
       "      <td>0</td>\n",
       "      <td>False</td>\n",
       "      <td>False</td>\n",
       "      <td>False</td>\n",
       "      <td>False</td>\n",
       "      <td>False</td>\n",
       "      <td>False</td>\n",
       "      <td>False</td>\n",
       "      <td>False</td>\n",
       "      <td>True</td>\n",
       "      <td>False</td>\n",
       "      <td>False</td>\n",
       "      <td>4635.519008</td>\n",
       "    </tr>\n",
       "    <tr>\n",
       "      <th>3</th>\n",
       "      <td>1</td>\n",
       "      <td>0</td>\n",
       "      <td>False</td>\n",
       "      <td>False</td>\n",
       "      <td>False</td>\n",
       "      <td>False</td>\n",
       "      <td>False</td>\n",
       "      <td>False</td>\n",
       "      <td>False</td>\n",
       "      <td>True</td>\n",
       "      <td>False</td>\n",
       "      <td>False</td>\n",
       "      <td>False</td>\n",
       "      <td>268.088846</td>\n",
       "    </tr>\n",
       "    <tr>\n",
       "      <th>4</th>\n",
       "      <td>1</td>\n",
       "      <td>0</td>\n",
       "      <td>False</td>\n",
       "      <td>False</td>\n",
       "      <td>False</td>\n",
       "      <td>False</td>\n",
       "      <td>False</td>\n",
       "      <td>False</td>\n",
       "      <td>True</td>\n",
       "      <td>False</td>\n",
       "      <td>False</td>\n",
       "      <td>False</td>\n",
       "      <td>False</td>\n",
       "      <td>808.096263</td>\n",
       "    </tr>\n",
       "  </tbody>\n",
       "</table>\n",
       "</div>"
      ],
      "text/plain": [
       "   Month  Hour  Zone_CAPITL  Zone_CENTRL  Zone_DUNWOD  Zone_GENESE  \\\n",
       "0      1     0        False        False        False        False   \n",
       "1      1     0        False        False        False        False   \n",
       "2      1     0        False        False        False        False   \n",
       "3      1     0        False        False        False        False   \n",
       "4      1     0        False        False        False        False   \n",
       "\n",
       "   Zone_HUD VL  Zone_LONGIL  Zone_MHK VL  Zone_MILLWD  Zone_N.Y.C.  \\\n",
       "0        False        False        False        False        False   \n",
       "1        False        False        False        False        False   \n",
       "2        False        False        False        False         True   \n",
       "3        False        False        False         True        False   \n",
       "4        False        False         True        False        False   \n",
       "\n",
       "   Zone_NORTH  Zone_WEST  RTD Actual Load  \n",
       "0       False       True      1576.427701  \n",
       "1        True      False       709.431346  \n",
       "2       False      False      4635.519008  \n",
       "3       False      False       268.088846  \n",
       "4       False      False       808.096263  "
      ]
     },
     "execution_count": 3,
     "metadata": {},
     "output_type": "execute_result"
    }
   ],
   "source": [
    "# Read and review data\n",
    "df = pd.read_csv(\"cleaned_demand.csv\")\n",
    "df.head()"
   ]
  },
  {
   "cell_type": "code",
   "execution_count": 4,
   "metadata": {},
   "outputs": [
    {
     "name": "stdout",
     "output_type": "stream",
     "text": [
      "Month Summary Statistics:\n",
      "count    3168.000000\n",
      "mean        6.500000\n",
      "std         3.452597\n",
      "min         1.000000\n",
      "25%         3.750000\n",
      "50%         6.500000\n",
      "75%         9.250000\n",
      "max        12.000000\n",
      "Name: Month, dtype: float64\n",
      "Hour Summary Statistics:\n",
      "count    3168.000000\n",
      "mean       11.500000\n",
      "std         6.923279\n",
      "min         0.000000\n",
      "25%         5.750000\n",
      "50%        11.500000\n",
      "75%        17.250000\n",
      "max        23.000000\n",
      "Name: Hour, dtype: float64\n"
     ]
    }
   ],
   "source": [
    "# Summary statistics for the 'Month' column\n",
    "month_stats = df['Month'].describe()\n",
    "print(\"Month Summary Statistics:\")\n",
    "print(month_stats)\n",
    "\n",
    "# Summary statistics for the 'Hour' column\n",
    "hour_stats = df['Hour'].describe()\n",
    "print(\"Hour Summary Statistics:\")\n",
    "print(hour_stats)\n"
   ]
  },
  {
   "cell_type": "code",
   "execution_count": 5,
   "metadata": {},
   "outputs": [],
   "source": [
    "# Define the features (X) and target variable (Y)\n",
    "X = df[[\"Month\", \"Hour\", \"Zone_CAPITL\", \"Zone_CENTRL\", \"Zone_DUNWOD\", \"Zone_GENESE\", \"Zone_HUD VL\", \"Zone_LONGIL\", \"Zone_MHK VL\", \"Zone_MILLWD\", \"Zone_N.Y.C.\", \"Zone_NORTH\", \"Zone_WEST\"]]\n",
    "Y = df[\"RTD Actual Load\"]"
   ]
  },
  {
   "cell_type": "markdown",
   "metadata": {},
   "source": [
    "# Linear Regression\n",
    "\n",
    "In this section, we will perform linear regression on the dataset.\n"
   ]
  },
  {
   "cell_type": "code",
   "execution_count": 6,
   "metadata": {},
   "outputs": [
    {
     "name": "stdout",
     "output_type": "stream",
     "text": [
      "Linear Regression Model Performance:\n",
      "Mean Squared Error: 105611.4695693951\n",
      "Mean Absolute Error: 187.6708824472208\n",
      "R-squared Score: 0.9446124368499607\n"
     ]
    }
   ],
   "source": [
    "# Split the dataset into training and testing sets\n",
    "X_train, X_test, y_train, y_test = train_test_split(X, Y, test_size=0.2, random_state=42)\n",
    "\n",
    "# Create an instance of the Linear Regression model\n",
    "model = LinearRegression()\n",
    "\n",
    "# Fit the model to the training data\n",
    "model.fit(X_train, y_train)\n",
    "\n",
    "# Predict the target variable for the testing data\n",
    "y_pred = model.predict(X_test)\n",
    "\n",
    "# Evaluate the model's performance\n",
    "mse = mean_squared_error(y_test, y_pred)\n",
    "mae = mean_absolute_error(y_test, y_pred)\n",
    "r2 = r2_score(y_test, y_pred)\n",
    "\n",
    "print(\"Linear Regression Model Performance:\")\n",
    "print(\"Mean Squared Error:\", mse)\n",
    "print(\"Mean Absolute Error:\", mae)\n",
    "print(\"R-squared Score:\", r2)\n"
   ]
  },
  {
   "cell_type": "code",
   "execution_count": 7,
   "metadata": {},
   "outputs": [
    {
     "data": {
      "image/png": "[encoded data removed]",
      "text/plain": [
       "<Figure size 640x480 with 1 Axes>"
      ]
     },
     "metadata": {},
     "output_type": "display_data"
    }
   ],
   "source": [
    "# Plot the residuals distribution\n",
    "residuals = y_test - y_pred\n",
    "\n",
    "# Plot the residuals\n",
    "plt.scatter(y_pred, residuals)\n",
    "plt.axhline(y=0, color='r', linestyle='--')\n",
    "plt.xlabel('Predicted Values')\n",
    "plt.ylabel('Residuals')\n",
    "plt.title('Residual Plot')\n",
    "plt.show()"
   ]
  },
  {
   "cell_type": "code",
   "execution_count": 8,
   "metadata": {},
   "outputs": [
    {
     "data": {
      "text/plain": [
       "['linear_predictor']"
      ]
     },
     "execution_count": 8,
     "metadata": {},
     "output_type": "execute_result"
    }
   ],
   "source": [
    "import joblib\\\n",
    "\n",
    "# Save the model to a file\n",
    "joblib.dump(model, 'linear_predictor')"
   ]
  },
  {
   "cell_type": "code",
   "execution_count": 9,
   "metadata": {},
   "outputs": [
    {
     "name": "stdout",
     "output_type": "stream",
     "text": [
      "[1640.37022065]\n"
     ]
    }
   ],
   "source": [
    "# Predict the target variable for new data\n",
    "new_data = pd.DataFrame({\"Month\": [1], \"Hour\": [12], \"Zone_CAPITL\": [0], \"Zone_CENTRL\": [1], \"Zone_DUNWOD\": [0], \"Zone_GENESE\": [0], \"Zone_HUD VL\": [0], \"Zone_LONGIL\": [0], \"Zone_MHK VL\": [0], \"Zone_MILLWD\": [0], \"Zone_N.Y.C.\": [0], \"Zone_NORTH\": [0], \"Zone_WEST\": [0]})\n",
    "prediction = model.predict(new_data)\n",
    "\n",
    "# Print the predicted value\n",
    "print(prediction)"
   ]
  },
  {
   "cell_type": "markdown",
   "metadata": {},
   "source": [
    "# Random Forest\n",
    "\n",
    "In this section, we will use a random forest ML model on the dataset."
   ]
  },
  {
   "cell_type": "code",
   "execution_count": 10,
   "metadata": {},
   "outputs": [
    {
     "name": "stdout",
     "output_type": "stream",
     "text": [
      "Random Forest Regressor Model Performance:\n",
      "Mean Squared Error: 2632.0571914453444\n",
      "Mean Absolute Error: 28.733756045639872\n",
      "R-squared Score: 0.9986196268785948\n",
      "[1908.1226736]\n"
     ]
    }
   ],
   "source": [
    "import pandas as pd\n",
    "from sklearn.ensemble import RandomForestRegressor\n",
    "from sklearn.model_selection import train_test_split\n",
    "from sklearn.metrics import mean_squared_error, mean_absolute_error, r2_score\n",
    "# Import the necessary libraries\n",
    "\n",
    "# Define the features (X) and target variable (Y)\n",
    "X = df[[\"Month\", \"Hour\", \"Zone_CAPITL\", \"Zone_CENTRL\", \"Zone_DUNWOD\", \"Zone_GENESE\", \"Zone_HUD VL\", \"Zone_LONGIL\", \"Zone_MHK VL\", \"Zone_MILLWD\", \"Zone_N.Y.C.\", \"Zone_NORTH\", \"Zone_WEST\"]]\n",
    "Y = df[\"RTD Actual Load\"]\n",
    "\n",
    "# Split the dataset into training and testing sets\n",
    "X_train, X_test, y_train, y_test = train_test_split(X, Y, test_size=0.2, random_state=42)\n",
    "\n",
    "# Create an instance of the Random Forest Regressor model\n",
    "model = RandomForestRegressor()\n",
    "\n",
    "# Fit the model to the training data\n",
    "model.fit(X_train, y_train)\n",
    "\n",
    "# Predict the target variable for the testing data\n",
    "y_pred = model.predict(X_test)\n",
    "\n",
    "# Evaluate the model's performance\n",
    "mse = mean_squared_error(y_test, y_pred)\n",
    "mae = mean_absolute_error(y_test, y_pred)\n",
    "r2 = r2_score(y_test, y_pred)\n",
    "\n",
    "print(\"Random Forest Regressor Model Performance:\")\n",
    "print(\"Mean Squared Error:\", mse)\n",
    "print(\"Mean Absolute Error:\", mae)\n",
    "print(\"R-squared Score:\", r2)\n",
    "\n",
    "# Predict the target variable for new data\n",
    "new_data = pd.DataFrame({\"Month\": [1], \"Hour\": [12], \"Zone_CAPITL\": [0], \"Zone_CENTRL\": [1], \"Zone_DUNWOD\": [0], \"Zone_GENESE\": [0], \"Zone_HUD VL\": [0], \"Zone_LONGIL\": [0], \"Zone_MHK VL\": [0], \"Zone_MILLWD\": [0], \"Zone_N.Y.C.\": [0], \"Zone_NORTH\": [0], \"Zone_WEST\": [0]})\n",
    "prediction = model.predict(new_data)\n",
    "\n",
    "# Print the predicted value\n",
    "print(prediction)\n",
    "\n"
   ]
  }
 ],
 "metadata": {
  "kernelspec": {
   "display_name": "Python 3",
   "language": "python",
   "name": "python3"
  },
  "language_info": {
   "codemirror_mode": {
    "name": "ipython",
    "version": 3
   },
   "file_extension": ".py",
   "mimetype": "text/x-python",
   "name": "python",
   "nbconvert_exporter": "python",
   "pygments_lexer": "ipython3",
   "version": "3.11.4"
  }
 },
 "nbformat": 4,
 "nbformat_minor": 2
}
